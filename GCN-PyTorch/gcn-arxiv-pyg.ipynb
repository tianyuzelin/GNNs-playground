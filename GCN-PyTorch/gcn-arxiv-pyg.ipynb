{
 "cells": [
  {
   "cell_type": "code",
   "execution_count": 2,
   "id": "0af21f33-1e09-4535-90ac-c2da31452d08",
   "metadata": {},
   "outputs": [],
   "source": [
    "import torch\n",
    "import torch.nn.functional as F\n",
    "\n",
    "import torch_geometric.transforms as T\n",
    "from torch_geometric.nn import GCNConv\n",
    "\n",
    "from ogb.graphproppred import PygGraphPropPredDataset\n",
    "from ogb.nodeproppred import PygNodePropPredDataset, Evaluator\n",
    "from torch_geometric.data import DataLoader\n",
    "\n",
    "from logger import Logger"
   ]
  },
  {
   "cell_type": "code",
   "execution_count": 3,
   "id": "2ef270a3-5370-4773-86a3-693456b82d3a",
   "metadata": {},
   "outputs": [],
   "source": [
    "device_args = 0 #default\n",
    "device = f'cuda:{device_args}' if torch.cuda.is_available() else 'cpu'\n",
    "device = torch.device(device)"
   ]
  },
  {
   "cell_type": "code",
   "execution_count": 4,
   "id": "fca6790e-b2b5-4a36-b47c-280e5c9693c3",
   "metadata": {},
   "outputs": [],
   "source": [
    "dataset = PygNodePropPredDataset(name='ogbn-arxiv', transform=T.ToSparseTensor())\n",
    "split_idx = dataset.get_idx_split()\n",
    "data = dataset[0]\n",
    "\n",
    "data.adj_t = data.adj_t.to_symmetric()\n",
    "data = data.to(device)\n",
    "\n",
    "split_idx = dataset.get_idx_split()\n",
    "train_idx = split_idx['train'].to(device)"
   ]
  },
  {
   "cell_type": "code",
   "execution_count": 6,
   "id": "2a4c102c-1709-494a-9df0-b3f744397cc3",
   "metadata": {},
   "outputs": [],
   "source": [
    "class GCN(torch.nn.Module):\n",
    "    def __init__(self, in_channels, hidden_channels, out_channels, num_layers,\n",
    "                 dropout):\n",
    "        super(GCN, self).__init__()\n",
    "\n",
    "        self.convs = torch.nn.ModuleList()\n",
    "        self.convs.append(GCNConv(in_channels, hidden_channels, cached=True))\n",
    "        self.bns = torch.nn.ModuleList()\n",
    "        self.bns.append(torch.nn.BatchNorm1d(hidden_channels))\n",
    "        for _ in range(num_layers - 2):\n",
    "            self.convs.append(\n",
    "                GCNConv(hidden_channels, hidden_channels, cached=True))\n",
    "            self.bns.append(torch.nn.BatchNorm1d(hidden_channels))\n",
    "        self.convs.append(GCNConv(hidden_channels, out_channels, cached=True))\n",
    "\n",
    "        self.dropout = dropout\n",
    "\n",
    "    def reset_parameters(self):\n",
    "        for conv in self.convs:\n",
    "            conv.reset_parameters()\n",
    "        for bn in self.bns:\n",
    "            bn.reset_parameters()\n",
    "\n",
    "    def forward(self, x, adj_t):\n",
    "        for i, conv in enumerate(self.convs[:-1]):\n",
    "            x = conv(x, adj_t)\n",
    "            x = self.bns[i](x)\n",
    "            x = F.relu(x)\n",
    "            x = F.dropout(x, p=self.dropout, training=self.training)\n",
    "        x = self.convs[-1](x, adj_t)\n",
    "        return x.log_softmax(dim=-1)"
   ]
  },
  {
   "cell_type": "code",
   "execution_count": 8,
   "id": "a3a4c33b-2540-4583-a3f0-cbf9ca7e598d",
   "metadata": {},
   "outputs": [],
   "source": [
    "def train(model, data, train_idx, optimizer):\n",
    "    model.train()\n",
    "\n",
    "    optimizer.zero_grad()\n",
    "    out = model(data.x, data.adj_t)[train_idx]\n",
    "    loss = F.nll_loss(out, data.y.squeeze(1)[train_idx])\n",
    "    loss.backward()\n",
    "    optimizer.step()\n",
    "\n",
    "    return loss.item()\n",
    "\n",
    "\n",
    "@torch.no_grad()\n",
    "def test(model, data, split_idx, evaluator):\n",
    "    model.eval()\n",
    "\n",
    "    out = model(data.x, data.adj_t)\n",
    "    y_pred = out.argmax(dim=-1, keepdim=True)\n",
    "\n",
    "    train_acc = evaluator.eval({\n",
    "        'y_true': data.y[split_idx['train']],\n",
    "        'y_pred': y_pred[split_idx['train']],\n",
    "    })['acc']\n",
    "    valid_acc = evaluator.eval({\n",
    "        'y_true': data.y[split_idx['valid']],\n",
    "        'y_pred': y_pred[split_idx['valid']],\n",
    "    })['acc']\n",
    "    test_acc = evaluator.eval({\n",
    "        'y_true': data.y[split_idx['test']],\n",
    "        'y_pred': y_pred[split_idx['test']],\n",
    "    })['acc']\n",
    "\n",
    "    return train_acc, valid_acc, test_acc"
   ]
  },
  {
   "cell_type": "code",
   "execution_count": 13,
   "id": "f985c1e5-d8dd-48bd-8daa-0becbaa1dc8c",
   "metadata": {},
   "outputs": [],
   "source": [
    "num_layers = 3\n",
    "hidden_channels = 256\n",
    "dropout = 0.5\n",
    "lr = 0.1\n",
    "epochs = 500\n",
    "runs = 10\n",
    "log_steps = 1\n",
    "\n",
    "model = GCN(data.num_features, hidden_channels, dataset.num_classes, num_layers, dropout).to(device)\n",
    "evaluator = Evaluator(name='ogbn-arxiv')"
   ]
  },
  {
   "cell_type": "code",
   "execution_count": null,
   "id": "fbb5fc18-adc4-4f5c-8015-bd5b73144445",
   "metadata": {},
   "outputs": [
    {
     "name": "stdout",
     "output_type": "stream",
     "text": [
      "Run: 01, Epoch: 01, Loss: 4.1986, Train: 10.99%, Valid: 22.97% Test: 21.56%\n",
      "Run: 01, Epoch: 02, Loss: 5.6963, Train: 5.85%, Valid: 4.25% Test: 3.06%\n",
      "Run: 01, Epoch: 03, Loss: 6.2524, Train: 7.69%, Valid: 14.96% Test: 22.10%\n",
      "Run: 01, Epoch: 04, Loss: 4.5490, Train: 9.20%, Valid: 11.15% Test: 10.49%\n",
      "Run: 01, Epoch: 05, Loss: 4.0974, Train: 19.84%, Valid: 9.90% Test: 7.83%\n",
      "Run: 01, Epoch: 06, Loss: 3.5769, Train: 25.59%, Valid: 28.95% Test: 25.90%\n",
      "Run: 01, Epoch: 07, Loss: 3.3349, Train: 20.43%, Valid: 26.36% Test: 23.90%\n",
      "Run: 01, Epoch: 08, Loss: 3.1642, Train: 14.89%, Valid: 24.34% Test: 22.41%\n",
      "Run: 01, Epoch: 09, Loss: 2.9893, Train: 16.32%, Valid: 24.80% Test: 22.74%\n",
      "Run: 01, Epoch: 10, Loss: 2.8215, Train: 23.55%, Valid: 27.76% Test: 24.98%\n",
      "Run: 01, Epoch: 11, Loss: 2.6984, Train: 27.80%, Valid: 29.99% Test: 26.84%\n",
      "Run: 01, Epoch: 12, Loss: 2.6269, Train: 29.72%, Valid: 31.40% Test: 28.05%\n",
      "Run: 01, Epoch: 13, Loss: 2.5823, Train: 30.40%, Valid: 32.15% Test: 28.80%\n",
      "Run: 01, Epoch: 14, Loss: 2.5423, Train: 30.88%, Valid: 32.34% Test: 29.28%\n"
     ]
    }
   ],
   "source": [
    "for run in range(runs):\n",
    "        model.reset_parameters()\n",
    "        optimizer = torch.optim.Adam(model.parameters(), lr=lr)\n",
    "        for epoch in range(1, 1 + epochs):\n",
    "            loss = train(model, data, train_idx, optimizer)\n",
    "            result = test(model, data, split_idx, evaluator)\n",
    "            # logger.add_result(run, result)\n",
    "\n",
    "            if epoch % log_steps == 0:\n",
    "                train_acc, valid_acc, test_acc = result\n",
    "                print(f'Run: {run + 1:02d}, '\n",
    "                      f'Epoch: {epoch:02d}, '\n",
    "                      f'Loss: {loss:.4f}, '\n",
    "                      f'Train: {100 * train_acc:.2f}%, '\n",
    "                      f'Valid: {100 * valid_acc:.2f}% '\n",
    "                      f'Test: {100 * test_acc:.2f}%')"
   ]
  },
  {
   "cell_type": "code",
   "execution_count": null,
   "id": "9f103d2e-80f3-4866-8008-6669ec66c606",
   "metadata": {},
   "outputs": [],
   "source": []
  }
 ],
 "metadata": {
  "kernelspec": {
   "display_name": "Python 3 (ipykernel)",
   "language": "python",
   "name": "python3"
  },
  "language_info": {
   "codemirror_mode": {
    "name": "ipython",
    "version": 3
   },
   "file_extension": ".py",
   "mimetype": "text/x-python",
   "name": "python",
   "nbconvert_exporter": "python",
   "pygments_lexer": "ipython3",
   "version": "3.7.11"
  }
 },
 "nbformat": 4,
 "nbformat_minor": 5
}
