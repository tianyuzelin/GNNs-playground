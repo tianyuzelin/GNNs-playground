{
 "cells": [
  {
   "cell_type": "code",
   "execution_count": null,
   "id": "fd4e7273",
   "metadata": {},
   "outputs": [],
   "source": [
    "# This model is optimized for GPU but not tested stability"
   ]
  },
  {
   "cell_type": "code",
   "execution_count": 1,
   "id": "0af21f33-1e09-4535-90ac-c2da31452d08",
   "metadata": {},
   "outputs": [],
   "source": [
    "import torch\n",
    "import torch.nn.functional as F\n",
    "\n",
    "import torch_geometric.transforms as T\n",
    "from torch_geometric.nn import GCNConv\n",
    "\n",
    "from ogb.graphproppred import PygGraphPropPredDataset\n",
    "from ogb.nodeproppred import PygNodePropPredDataset, Evaluator\n",
    "from torch_geometric.data import DataLoader\n",
    "\n",
    "from logger import Logger\n",
    "from tqdm.notebook import trange, tqdm"
   ]
  },
  {
   "cell_type": "code",
   "execution_count": 2,
   "id": "2ef270a3-5370-4773-86a3-693456b82d3a",
   "metadata": {},
   "outputs": [],
   "source": [
    "device_args = 0 #default\n",
    "device = f'cuda:{device_args}' if torch.cuda.is_available() else 'cpu'\n",
    "device = torch.device(device)"
   ]
  },
  {
   "cell_type": "code",
   "execution_count": 3,
   "id": "fca6790e-b2b5-4a36-b47c-280e5c9693c3",
   "metadata": {},
   "outputs": [],
   "source": [
    "dataset = PygNodePropPredDataset(name='ogbn-arxiv', transform=T.ToSparseTensor())\n",
    "split_idx = dataset.get_idx_split()\n",
    "data = dataset[0]\n",
    "\n",
    "data.adj_t = data.adj_t.to_symmetric()\n",
    "data = data.to(device)\n",
    "\n",
    "split_idx = dataset.get_idx_split()\n",
    "train_idx = split_idx['train'].to(device)"
   ]
  },
  {
   "cell_type": "code",
   "execution_count": 4,
   "id": "2a4c102c-1709-494a-9df0-b3f744397cc3",
   "metadata": {},
   "outputs": [],
   "source": [
    "class GCN(torch.nn.Module):\n",
    "    def __init__(self, in_channels, hidden_channels, out_channels, num_layers,\n",
    "                 dropout):\n",
    "        super(GCN, self).__init__()\n",
    "\n",
    "        self.convs = torch.nn.ModuleList()\n",
    "        self.convs.append(GCNConv(in_channels, hidden_channels, cached=True))\n",
    "        self.bns = torch.nn.ModuleList()\n",
    "        self.bns.append(torch.nn.BatchNorm1d(hidden_channels))\n",
    "        for _ in range(num_layers - 2):\n",
    "            self.convs.append(\n",
    "                GCNConv(hidden_channels, hidden_channels, cached=True))\n",
    "            self.bns.append(torch.nn.BatchNorm1d(hidden_channels))\n",
    "        self.convs.append(GCNConv(hidden_channels, out_channels, cached=True))\n",
    "\n",
    "        self.dropout = dropout\n",
    "\n",
    "    def reset_parameters(self):\n",
    "        for conv in self.convs:\n",
    "            conv.reset_parameters()\n",
    "        for bn in self.bns:\n",
    "            bn.reset_parameters()\n",
    "\n",
    "    def forward(self, x, adj_t):\n",
    "        for i, conv in enumerate(self.convs[:-1]):\n",
    "            x = conv(x, adj_t)\n",
    "            x = self.bns[i](x)\n",
    "            x = F.relu(x)\n",
    "            x = F.dropout(x, p=self.dropout, training=self.training)\n",
    "        x = self.convs[-1](x, adj_t)\n",
    "        return x.log_softmax(dim=-1)"
   ]
  },
  {
   "cell_type": "code",
   "execution_count": 5,
   "id": "a3a4c33b-2540-4583-a3f0-cbf9ca7e598d",
   "metadata": {},
   "outputs": [],
   "source": [
    "def train(model, data, train_idx, optimizer):\n",
    "    model.train()\n",
    "\n",
    "    optimizer.zero_grad()\n",
    "    out = model(data.x, data.adj_t)[train_idx]\n",
    "    loss = F.nll_loss(out, data.y.squeeze(1)[train_idx])\n",
    "    loss.backward()\n",
    "    optimizer.step()\n",
    "\n",
    "    return loss.item()\n",
    "\n",
    "\n",
    "@torch.no_grad()\n",
    "def test(model, data, split_idx, evaluator):\n",
    "    model.eval()\n",
    "\n",
    "    out = model(data.x, data.adj_t)\n",
    "    y_pred = out.argmax(dim=-1, keepdim=True)\n",
    "\n",
    "    train_acc = evaluator.eval({\n",
    "        'y_true': data.y[split_idx['train']],\n",
    "        'y_pred': y_pred[split_idx['train']],\n",
    "    })['acc']\n",
    "    valid_acc = evaluator.eval({\n",
    "        'y_true': data.y[split_idx['valid']],\n",
    "        'y_pred': y_pred[split_idx['valid']],\n",
    "    })['acc']\n",
    "    test_acc = evaluator.eval({\n",
    "        'y_true': data.y[split_idx['test']],\n",
    "        'y_pred': y_pred[split_idx['test']],\n",
    "    })['acc']\n",
    "\n",
    "    return train_acc, valid_acc, test_acc"
   ]
  },
  {
   "cell_type": "code",
   "execution_count": 6,
   "id": "f985c1e5-d8dd-48bd-8daa-0becbaa1dc8c",
   "metadata": {},
   "outputs": [],
   "source": [
    "num_layers = 3\n",
    "hidden_channels = 256\n",
    "dropout = 0.5\n",
    "lr = 0.1\n",
    "epochs = 500\n",
    "runs = 2\n",
    "log_steps = 50\n",
    "\n",
    "model = GCN(data.num_features, hidden_channels, dataset.num_classes, num_layers, dropout).to(device)\n",
    "evaluator = Evaluator(name='ogbn-arxiv')"
   ]
  },
  {
   "cell_type": "code",
   "execution_count": 8,
   "id": "fbb5fc18-adc4-4f5c-8015-bd5b73144445",
   "metadata": {
    "scrolled": true,
    "tags": []
   },
   "outputs": [
    {
     "data": {
      "application/vnd.jupyter.widget-view+json": {
       "model_id": "f86bf79bf0dd4d1d853938116a3ff826",
       "version_major": 2,
       "version_minor": 0
      },
      "text/plain": [
       "  0%|          | 0/500 [00:00<?, ?it/s]"
      ]
     },
     "metadata": {},
     "output_type": "display_data"
    },
    {
     "name": "stdout",
     "output_type": "stream",
     "text": [
      "Run: 01, Epoch: 50, Loss: 1.3879, Train: 62.60%, Valid: 62.36% Test: 60.47%\n",
      "Run: 01, Epoch: 100, Loss: 1.1788, Train: 68.24%, Valid: 67.96% Test: 67.23%\n",
      "Run: 01, Epoch: 150, Loss: 1.0871, Train: 70.58%, Valid: 69.78% Test: 68.63%\n",
      "Run: 01, Epoch: 200, Loss: 1.0335, Train: 71.85%, Valid: 70.62% Test: 69.74%\n",
      "Run: 01, Epoch: 250, Loss: 0.9944, Train: 72.65%, Valid: 71.11% Test: 69.79%\n",
      "Run: 01, Epoch: 300, Loss: 0.9695, Train: 73.15%, Valid: 70.98% Test: 69.29%\n",
      "Run: 01, Epoch: 350, Loss: 0.9432, Train: 73.56%, Valid: 71.58% Test: 70.56%\n",
      "Run: 01, Epoch: 400, Loss: 0.9254, Train: 74.09%, Valid: 71.94% Test: 71.13%\n",
      "Run: 01, Epoch: 450, Loss: 0.9082, Train: 74.33%, Valid: 71.69% Test: 70.52%\n",
      "Run: 01, Epoch: 500, Loss: 0.8953, Train: 75.02%, Valid: 71.75% Test: 70.49%\n"
     ]
    },
    {
     "data": {
      "application/vnd.jupyter.widget-view+json": {
       "model_id": "0ed02da5a6714f0eae63ce98d2fa603f",
       "version_major": 2,
       "version_minor": 0
      },
      "text/plain": [
       "  0%|          | 0/500 [00:00<?, ?it/s]"
      ]
     },
     "metadata": {},
     "output_type": "display_data"
    },
    {
     "name": "stdout",
     "output_type": "stream",
     "text": [
      "Run: 02, Epoch: 50, Loss: 1.4113, Train: 62.15%, Valid: 62.27% Test: 60.17%\n",
      "Run: 02, Epoch: 100, Loss: 1.1888, Train: 68.27%, Valid: 68.06% Test: 66.98%\n",
      "Run: 02, Epoch: 150, Loss: 1.1086, Train: 70.42%, Valid: 69.31% Test: 67.77%\n",
      "Run: 02, Epoch: 200, Loss: 1.0562, Train: 71.37%, Valid: 70.39% Test: 69.06%\n",
      "Run: 02, Epoch: 250, Loss: 1.0280, Train: 72.16%, Valid: 70.95% Test: 69.74%\n",
      "Run: 02, Epoch: 300, Loss: 0.9917, Train: 72.58%, Valid: 70.69% Test: 68.59%\n",
      "Run: 02, Epoch: 350, Loss: 0.9720, Train: 73.04%, Valid: 70.29% Test: 68.70%\n",
      "Run: 02, Epoch: 400, Loss: 0.9558, Train: 73.12%, Valid: 71.28% Test: 70.31%\n",
      "Run: 02, Epoch: 450, Loss: 0.9374, Train: 73.66%, Valid: 71.11% Test: 70.05%\n",
      "Run: 02, Epoch: 500, Loss: 0.9279, Train: 74.14%, Valid: 71.76% Test: 70.95%\n"
     ]
    }
   ],
   "source": [
    "for run in range(runs):\n",
    "    model.reset_parameters()\n",
    "    optimizer = torch.optim.Adam(model.parameters(), lr=lr)\n",
    "    for epoch in tqdm(range(1, 1 + epochs)):\n",
    "        loss = train(model, data, train_idx, optimizer)\n",
    "        result = test(model, data, split_idx, evaluator)\n",
    "        # logger.add_result(run, result)\n",
    "\n",
    "        if epoch % log_steps == 0:\n",
    "            train_acc, valid_acc, test_acc = result\n",
    "            print(f'Run: {run + 1:02d}, '\n",
    "                  f'Epoch: {epoch:02d}, '\n",
    "                  f'Loss: {loss:.4f}, '\n",
    "                  f'Train: {100 * train_acc:.2f}%, '\n",
    "                  f'Valid: {100 * valid_acc:.2f}% '\n",
    "                  f'Test: {100 * test_acc:.2f}%')"
   ]
  },
  {
   "cell_type": "code",
   "execution_count": null,
   "id": "9f103d2e-80f3-4866-8008-6669ec66c606",
   "metadata": {},
   "outputs": [],
   "source": []
  }
 ],
 "metadata": {
  "kernelspec": {
   "display_name": "Python 3 (ipykernel)",
   "language": "python",
   "name": "python3"
  },
  "language_info": {
   "codemirror_mode": {
    "name": "ipython",
    "version": 3
   },
   "file_extension": ".py",
   "mimetype": "text/x-python",
   "name": "python",
   "nbconvert_exporter": "python",
   "pygments_lexer": "ipython3",
   "version": "3.7.11"
  }
 },
 "nbformat": 4,
 "nbformat_minor": 5
}
